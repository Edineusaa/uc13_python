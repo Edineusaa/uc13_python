{
 "cells": [
  {
   "cell_type": "code",
   "execution_count": 8,
   "metadata": {},
   "outputs": [
    {
     "name": "stdout",
     "output_type": "stream",
     "text": [
      "edi\n"
     ]
    }
   ],
   "source": [
    "nome = input('Digite algo: ')\n",
    "print(nome)"
   ]
  },
  {
   "cell_type": "code",
   "execution_count": 14,
   "metadata": {},
   "outputs": [
    {
     "name": "stdout",
     "output_type": "stream",
     "text": [
      "o resultado da soma é 11\n"
     ]
    }
   ],
   "source": [
    "n1 = int(input('Digite o 1° numero:'))\n",
    "n2 = int(input('Digite o 2° numero:'))\n",
    "resultado = n1 + n2\n",
    "print(f'o resultado da soma é {resultado}')"
   ]
  },
  {
   "cell_type": "code",
   "execution_count": 15,
   "metadata": {},
   "outputs": [
    {
     "name": "stdout",
     "output_type": "stream",
     "text": [
      "A velocidade média é: 1.0\n"
     ]
    }
   ],
   "source": [
    "distancia = int(input('Distância'))\n",
    "tempo = float(input('Tempo gasto'))\n",
    "print(f'A velocidade média é: {distancia/tempo}')"
   ]
  },
  {
   "cell_type": "code",
   "execution_count": null,
   "metadata": {},
   "outputs": [
    {
     "name": "stdout",
     "output_type": "stream",
     "text": [
      "A velocidade média é:  1\n"
     ]
    }
   ],
   "source": [
    "distancia = int(input('Distância'))\n",
    "tempo = float(input('Tempo gasto'))\n",
    "velocidade = distancia/tempo\n",
    "print('A velocidade média é: %2.f' %velocidade)"
   ]
  },
  {
   "cell_type": "code",
   "execution_count": 18,
   "metadata": {},
   "outputs": [
    {
     "name": "stdout",
     "output_type": "stream",
     "text": [
      "<class 'str'>\n",
      "<class 'str'>\n",
      "<class 'float'>\n"
     ]
    }
   ],
   "source": [
    "print (type('python'))\n",
    "print (type('CopiarEditar'))\n",
    "print (type(10/3))"
   ]
  }
 ],
 "metadata": {
  "kernelspec": {
   "display_name": "Python 3",
   "language": "python",
   "name": "python3"
  },
  "language_info": {
   "codemirror_mode": {
    "name": "ipython",
    "version": 3
   },
   "file_extension": ".py",
   "mimetype": "text/x-python",
   "name": "python",
   "nbconvert_exporter": "python",
   "pygments_lexer": "ipython3",
   "version": "3.13.1"
  }
 },
 "nbformat": 4,
 "nbformat_minor": 2
}
